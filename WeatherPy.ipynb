{
 "cells": [
  {
   "cell_type": "code",
   "execution_count": 1,
   "metadata": {},
   "outputs": [],
   "source": [
    "# Import the dependencies.\n",
    "import pandas as pd\n",
    "import matplotlib.pyplot as plt\n",
    "import numpy as np\n",
    "from citipy import citipy\n",
    "# Import the datetime module from the datetime library.\n",
    "from datetime import datetime\n",
    "# Import the requests library.\n",
    "import requests\n",
    "# Import the API key.\n",
    "from config import weather_api_key\n",
    "# Import the time module.\n",
    "import time"
   ]
  },
  {
   "cell_type": "code",
   "execution_count": 2,
   "metadata": {},
   "outputs": [
    {
     "data": {
      "text/plain": [
       "<zip at 0x27c977dc848>"
      ]
     },
     "execution_count": 2,
     "metadata": {},
     "output_type": "execute_result"
    }
   ],
   "source": [
    "# Create a set of random latitude and longitude combinations.\n",
    "lats = np.random.uniform(low=-90.000, high=90.000, size=100)\n",
    "lngs = np.random.uniform(low=-180.000, high=180.000, size=100)\n",
    "lat_lngs = zip(lats, lngs)\n",
    "lat_lngs"
   ]
  },
  {
   "cell_type": "code",
   "execution_count": 3,
   "metadata": {},
   "outputs": [],
   "source": [
    "# Add the latitudes and longitudes to a list.\n",
    "coordinates = list(lat_lngs)"
   ]
  },
  {
   "cell_type": "code",
   "execution_count": 4,
   "metadata": {},
   "outputs": [
    {
     "data": {
      "text/plain": [
       "79"
      ]
     },
     "execution_count": 4,
     "metadata": {},
     "output_type": "execute_result"
    }
   ],
   "source": [
    "# Create a list for holding the cities.\n",
    "cities = []\n",
    "# Identify the nearest city for each latitude and longitude combination.\n",
    "for coordinate in coordinates:\n",
    "    city = citipy.nearest_city(coordinate[0], coordinate[1]).city_name\n",
    "\n",
    "    # If the city is unique, then we will add it to the cities list.\n",
    "    if city not in cities:\n",
    "        cities.append(city)\n",
    "# Print the city count to confirm sufficient count.\n",
    "len(cities)"
   ]
  },
  {
   "cell_type": "code",
   "execution_count": 7,
   "metadata": {},
   "outputs": [],
   "source": [
    "# Starting URL for Weather Map API Call.\n",
    "url = \"http://api.openweathermap.org/data/2.5/weather?units=Imperial&APPID=\" \n"
   ]
  },
  {
   "cell_type": "code",
   "execution_count": 6,
   "metadata": {},
   "outputs": [],
   "source": [
    "# Create an endpoint URL for a city.\n",
    "city_url = url + \"&q=\" + \"Boston\"\n"
   ]
  },
  {
   "cell_type": "code",
   "execution_count": 7,
   "metadata": {},
   "outputs": [
    {
     "data": {
      "text/plain": [
       "<Response [200]>"
      ]
     },
     "execution_count": 7,
     "metadata": {},
     "output_type": "execute_result"
    }
   ],
   "source": [
    "# Make a 'Get' request for the city weather.\n",
    "city_weather = requests.get(city_url)\n",
    "city_weather"
   ]
  },
  {
   "cell_type": "code",
   "execution_count": 8,
   "metadata": {},
   "outputs": [
    {
     "data": {
      "text/plain": [
       "200"
      ]
     },
     "execution_count": 8,
     "metadata": {},
     "output_type": "execute_result"
    }
   ],
   "source": [
    "city_weather.status_code"
   ]
  },
  {
   "cell_type": "code",
   "execution_count": 6,
   "metadata": {},
   "outputs": [
    {
     "name": "stdout",
     "output_type": "stream",
     "text": [
      "Beginning Data Retrieval     \n",
      "-----------------------------\n",
      "Processing Record 1 of Set 1 | hithadhoo\n",
      "City not found. Skipping...\n",
      "Processing Record 2 of Set 1 | taolanaro\n",
      "City not found. Skipping...\n",
      "Processing Record 3 of Set 1 | thompson\n",
      "City not found. Skipping...\n",
      "Processing Record 4 of Set 1 | juterbog\n",
      "City not found. Skipping...\n",
      "Processing Record 5 of Set 1 | mungwi\n",
      "City not found. Skipping...\n",
      "Processing Record 6 of Set 1 | oranjestad\n",
      "City not found. Skipping...\n",
      "Processing Record 7 of Set 1 | tsihombe\n",
      "City not found. Skipping...\n",
      "Processing Record 8 of Set 1 | bluff\n",
      "City not found. Skipping...\n",
      "Processing Record 9 of Set 1 | saint-philippe\n",
      "City not found. Skipping...\n",
      "Processing Record 10 of Set 1 | touros\n",
      "City not found. Skipping...\n",
      "Processing Record 11 of Set 1 | bredasdorp\n",
      "City not found. Skipping...\n",
      "Processing Record 12 of Set 1 | jardim\n",
      "City not found. Skipping...\n",
      "Processing Record 13 of Set 1 | port augusta\n",
      "City not found. Skipping...\n",
      "Processing Record 14 of Set 1 | mataura\n",
      "City not found. Skipping...\n",
      "Processing Record 15 of Set 1 | punta arenas\n",
      "City not found. Skipping...\n",
      "Processing Record 16 of Set 1 | iisalmi\n",
      "City not found. Skipping...\n",
      "Processing Record 17 of Set 1 | wangqing\n",
      "City not found. Skipping...\n",
      "Processing Record 18 of Set 1 | am timan\n",
      "City not found. Skipping...\n",
      "Processing Record 19 of Set 1 | busselton\n",
      "City not found. Skipping...\n",
      "Processing Record 20 of Set 1 | atuona\n",
      "City not found. Skipping...\n",
      "Processing Record 21 of Set 1 | kamenka\n",
      "City not found. Skipping...\n",
      "Processing Record 22 of Set 1 | ushuaia\n",
      "City not found. Skipping...\n",
      "Processing Record 23 of Set 1 | rikitea\n",
      "City not found. Skipping...\n",
      "Processing Record 24 of Set 1 | cabadiangan\n",
      "City not found. Skipping...\n",
      "Processing Record 25 of Set 1 | bintulu\n",
      "City not found. Skipping...\n",
      "Processing Record 26 of Set 1 | vaovai\n",
      "City not found. Skipping...\n",
      "Processing Record 27 of Set 1 | karratha\n",
      "City not found. Skipping...\n",
      "Processing Record 28 of Set 1 | kavieng\n",
      "City not found. Skipping...\n",
      "Processing Record 29 of Set 1 | nikolskoye\n",
      "City not found. Skipping...\n",
      "Processing Record 30 of Set 1 | gamba\n",
      "City not found. Skipping...\n",
      "Processing Record 31 of Set 1 | seminole\n",
      "City not found. Skipping...\n",
      "Processing Record 32 of Set 1 | messina\n",
      "City not found. Skipping...\n",
      "Processing Record 33 of Set 1 | cape town\n",
      "City not found. Skipping...\n",
      "Processing Record 34 of Set 1 | airai\n",
      "City not found. Skipping...\n",
      "Processing Record 35 of Set 1 | tuktoyaktuk\n",
      "City not found. Skipping...\n",
      "Processing Record 36 of Set 1 | saint george\n",
      "City not found. Skipping...\n",
      "Processing Record 37 of Set 1 | hilo\n",
      "City not found. Skipping...\n",
      "Processing Record 38 of Set 1 | avarua\n",
      "City not found. Skipping...\n",
      "Processing Record 39 of Set 1 | east london\n",
      "City not found. Skipping...\n",
      "Processing Record 40 of Set 1 | butaritari\n",
      "City not found. Skipping...\n",
      "Processing Record 41 of Set 1 | taltal\n",
      "City not found. Skipping...\n",
      "Processing Record 42 of Set 1 | webuye\n",
      "City not found. Skipping...\n",
      "Processing Record 43 of Set 1 | beyneu\n",
      "City not found. Skipping...\n",
      "Processing Record 44 of Set 1 | barranca\n",
      "City not found. Skipping...\n",
      "Processing Record 45 of Set 1 | gushikawa\n",
      "City not found. Skipping...\n",
      "Processing Record 46 of Set 1 | nome\n",
      "City not found. Skipping...\n",
      "Processing Record 47 of Set 1 | jamestown\n",
      "City not found. Skipping...\n",
      "Processing Record 48 of Set 1 | vaini\n",
      "City not found. Skipping...\n",
      "Processing Record 49 of Set 1 | kapaa\n",
      "City not found. Skipping...\n",
      "Processing Record 50 of Set 1 | vestmannaeyjar\n",
      "City not found. Skipping...\n",
      "Processing Record 1 of Set 2 | hobart\n",
      "City not found. Skipping...\n",
      "Processing Record 2 of Set 2 | bethel\n",
      "City not found. Skipping...\n",
      "Processing Record 3 of Set 2 | terenos\n",
      "City not found. Skipping...\n",
      "Processing Record 4 of Set 2 | loandjili\n",
      "City not found. Skipping...\n",
      "Processing Record 5 of Set 2 | vao\n",
      "City not found. Skipping...\n",
      "Processing Record 6 of Set 2 | inhambane\n",
      "City not found. Skipping...\n",
      "Processing Record 7 of Set 2 | aykino\n",
      "City not found. Skipping...\n",
      "Processing Record 8 of Set 2 | qaanaaq\n",
      "City not found. Skipping...\n",
      "Processing Record 9 of Set 2 | barentsburg\n",
      "City not found. Skipping...\n",
      "Processing Record 10 of Set 2 | castro\n",
      "City not found. Skipping...\n",
      "Processing Record 11 of Set 2 | benicarlo\n",
      "City not found. Skipping...\n",
      "Processing Record 12 of Set 2 | taitung\n",
      "City not found. Skipping...\n",
      "Processing Record 13 of Set 2 | auch\n",
      "City not found. Skipping...\n",
      "Processing Record 14 of Set 2 | kenai\n",
      "City not found. Skipping...\n",
      "Processing Record 15 of Set 2 | isangel\n",
      "City not found. Skipping...\n",
      "Processing Record 16 of Set 2 | puerto ayora\n",
      "City not found. Skipping...\n",
      "Processing Record 17 of Set 2 | georgetown\n",
      "City not found. Skipping...\n",
      "Processing Record 18 of Set 2 | sahibganj\n",
      "City not found. Skipping...\n",
      "Processing Record 19 of Set 2 | diamantina\n",
      "City not found. Skipping...\n",
      "Processing Record 20 of Set 2 | henties bay\n",
      "City not found. Skipping...\n",
      "Processing Record 21 of Set 2 | port blair\n",
      "City not found. Skipping...\n",
      "Processing Record 22 of Set 2 | barcelos\n",
      "City not found. Skipping...\n",
      "Processing Record 23 of Set 2 | toftir\n",
      "City not found. Skipping...\n",
      "Processing Record 24 of Set 2 | kununurra\n",
      "City not found. Skipping...\n",
      "Processing Record 25 of Set 2 | arraial do cabo\n",
      "City not found. Skipping...\n",
      "Processing Record 26 of Set 2 | camana\n",
      "City not found. Skipping...\n",
      "Processing Record 27 of Set 2 | lebu\n",
      "City not found. Skipping...\n",
      "Processing Record 28 of Set 2 | belushya guba\n",
      "City not found. Skipping...\n",
      "Processing Record 29 of Set 2 | tautira\n",
      "City not found. Skipping...\n",
      "-----------------------------\n",
      "Data Retrieval Complete      \n",
      "-----------------------------\n"
     ]
    }
   ],
   "source": [
    "# Create an empty list to hold the weather data.\n",
    "city_data = []\n",
    "# Print the beginning of the logging.\n",
    "print(\"Beginning Data Retrieval     \")\n",
    "print(\"-----------------------------\")\n",
    "\n",
    "# Create counters.\n",
    "record_count = 1\n",
    "set_count = 1\n",
    "\n",
    "# Loop through all the cities in the list.\n",
    "for i, city in enumerate(cities):\n",
    "\n",
    "    # Group cities in sets of 50 for logging purposes.\n",
    "    if (i % 50 == 0 and i >= 50):\n",
    "        set_count += 1\n",
    "        record_count = 1\n",
    "    # Create endpoint URL with each city.\n",
    "    city_url = url + \"&q=\" + city.replace(\" \",\"+\") + weather_api_key\n",
    "\n",
    "    # Log the URL, record, and set numbers and the city.\n",
    "    print(f\"Processing Record {record_count} of Set {set_count} | {city}\")\n",
    "    # Add 1 to the record count.\n",
    "    record_count += 1\n",
    "# Run an API request for each of the cities.\n",
    "    try:\n",
    "        # Parse the JSON and retrieve data.\n",
    "        city_weather = requests.get(city_url).json()\n",
    "        # Parse out the needed data.\n",
    "        city_lat = city_weather[\"coord\"][\"lat\"]\n",
    "        city_lng = city_weather[\"coord\"][\"lon\"]\n",
    "        city_max_temp = city_weather[\"main\"][\"temp_max\"]\n",
    "        city_humidity = city_weather[\"main\"][\"humidity\"]\n",
    "        city_clouds = city_weather[\"clouds\"][\"all\"]\n",
    "        city_wind = city_weather[\"wind\"][\"speed\"]\n",
    "        city_country = city_weather[\"sys\"][\"country\"]\n",
    "        # Convert the date to ISO standard.\n",
    "        city_date = datetime.utcfromtimestamp(city_weather[\"dt\"]).strftime('%Y-%m-%d %H:%M:%S')\n",
    "        # Append the city information into city_data list.\n",
    "        city_data.append({\"City\": city.title(),\n",
    "                          \"Lat\": city_lat,\n",
    "                          \"Lng\": city_lng,\n",
    "                          \"Max Temp\": city_max_temp,\n",
    "                          \"Humidity\": city_humidity,\n",
    "                          \"Cloudiness\": city_clouds,\n",
    "                          \"Wind Speed\": city_wind,\n",
    "                          \"Country\": city_country,\n",
    "                          \"Date\": city_date})\n",
    "\n",
    "# If an error is experienced, skip the city.\n",
    "    except:\n",
    "        print(\"City not found. Skipping...\")\n",
    "        pass\n",
    "\n",
    "# Indicate that Data Loading is complete.\n",
    "print(\"-----------------------------\")\n",
    "print(\"Data Retrieval Complete      \")\n",
    "print(\"-----------------------------\")"
   ]
  },
  {
   "cell_type": "code",
   "execution_count": 57,
   "metadata": {},
   "outputs": [
    {
     "data": {
      "text/plain": [
       "{'cod': '404', 'message': 'city not found'}"
      ]
     },
     "execution_count": 57,
     "metadata": {},
     "output_type": "execute_result"
    }
   ],
   "source": [
    "city_weather"
   ]
  },
  {
   "cell_type": "code",
   "execution_count": 58,
   "metadata": {},
   "outputs": [
    {
     "data": {
      "text/html": [
       "<div>\n",
       "<style scoped>\n",
       "    .dataframe tbody tr th:only-of-type {\n",
       "        vertical-align: middle;\n",
       "    }\n",
       "\n",
       "    .dataframe tbody tr th {\n",
       "        vertical-align: top;\n",
       "    }\n",
       "\n",
       "    .dataframe thead th {\n",
       "        text-align: right;\n",
       "    }\n",
       "</style>\n",
       "<table border=\"1\" class=\"dataframe\">\n",
       "  <thead>\n",
       "    <tr style=\"text-align: right;\">\n",
       "      <th></th>\n",
       "      <th>City</th>\n",
       "      <th>Lat</th>\n",
       "      <th>Lng</th>\n",
       "      <th>Max Temp</th>\n",
       "      <th>Humidity</th>\n",
       "      <th>Cloudiness</th>\n",
       "      <th>Wind Speed</th>\n",
       "      <th>Country</th>\n",
       "      <th>Current Description</th>\n",
       "    </tr>\n",
       "  </thead>\n",
       "  <tbody>\n",
       "    <tr>\n",
       "      <th>0</th>\n",
       "      <td>Bredasdorp</td>\n",
       "      <td>-34.5322</td>\n",
       "      <td>20.0403</td>\n",
       "      <td>66.20</td>\n",
       "      <td>82</td>\n",
       "      <td>60</td>\n",
       "      <td>8.05</td>\n",
       "      <td>ZA</td>\n",
       "      <td>2021-04-18 23:27:38</td>\n",
       "    </tr>\n",
       "    <tr>\n",
       "      <th>1</th>\n",
       "      <td>East London</td>\n",
       "      <td>-33.0153</td>\n",
       "      <td>27.9116</td>\n",
       "      <td>74.70</td>\n",
       "      <td>30</td>\n",
       "      <td>0</td>\n",
       "      <td>6.46</td>\n",
       "      <td>ZA</td>\n",
       "      <td>2021-04-18 23:27:39</td>\n",
       "    </tr>\n",
       "    <tr>\n",
       "      <th>2</th>\n",
       "      <td>Yatou</td>\n",
       "      <td>37.1500</td>\n",
       "      <td>122.3833</td>\n",
       "      <td>52.79</td>\n",
       "      <td>65</td>\n",
       "      <td>0</td>\n",
       "      <td>11.16</td>\n",
       "      <td>CN</td>\n",
       "      <td>2021-04-18 23:27:39</td>\n",
       "    </tr>\n",
       "    <tr>\n",
       "      <th>3</th>\n",
       "      <td>Chokurdakh</td>\n",
       "      <td>70.6333</td>\n",
       "      <td>147.9167</td>\n",
       "      <td>9.59</td>\n",
       "      <td>91</td>\n",
       "      <td>95</td>\n",
       "      <td>14.25</td>\n",
       "      <td>RU</td>\n",
       "      <td>2021-04-18 23:27:39</td>\n",
       "    </tr>\n",
       "    <tr>\n",
       "      <th>4</th>\n",
       "      <td>Albany</td>\n",
       "      <td>42.6001</td>\n",
       "      <td>-73.9662</td>\n",
       "      <td>55.00</td>\n",
       "      <td>43</td>\n",
       "      <td>95</td>\n",
       "      <td>3.00</td>\n",
       "      <td>US</td>\n",
       "      <td>2021-04-18 23:23:56</td>\n",
       "    </tr>\n",
       "    <tr>\n",
       "      <th>5</th>\n",
       "      <td>Saldanha</td>\n",
       "      <td>-33.0117</td>\n",
       "      <td>17.9442</td>\n",
       "      <td>62.60</td>\n",
       "      <td>88</td>\n",
       "      <td>46</td>\n",
       "      <td>9.22</td>\n",
       "      <td>ZA</td>\n",
       "      <td>2021-04-18 23:23:13</td>\n",
       "    </tr>\n",
       "    <tr>\n",
       "      <th>6</th>\n",
       "      <td>Bethel</td>\n",
       "      <td>41.3712</td>\n",
       "      <td>-73.4140</td>\n",
       "      <td>59.00</td>\n",
       "      <td>38</td>\n",
       "      <td>90</td>\n",
       "      <td>8.05</td>\n",
       "      <td>US</td>\n",
       "      <td>2021-04-18 23:27:40</td>\n",
       "    </tr>\n",
       "    <tr>\n",
       "      <th>7</th>\n",
       "      <td>Novovasylivka</td>\n",
       "      <td>46.8315</td>\n",
       "      <td>35.7536</td>\n",
       "      <td>46.02</td>\n",
       "      <td>79</td>\n",
       "      <td>75</td>\n",
       "      <td>2.73</td>\n",
       "      <td>UA</td>\n",
       "      <td>2021-04-18 23:27:40</td>\n",
       "    </tr>\n",
       "    <tr>\n",
       "      <th>8</th>\n",
       "      <td>Chuy</td>\n",
       "      <td>-33.6971</td>\n",
       "      <td>-53.4616</td>\n",
       "      <td>63.36</td>\n",
       "      <td>78</td>\n",
       "      <td>0</td>\n",
       "      <td>7.56</td>\n",
       "      <td>UY</td>\n",
       "      <td>2021-04-18 23:27:40</td>\n",
       "    </tr>\n",
       "    <tr>\n",
       "      <th>9</th>\n",
       "      <td>Coquimbo</td>\n",
       "      <td>-29.9533</td>\n",
       "      <td>-71.3436</td>\n",
       "      <td>57.20</td>\n",
       "      <td>88</td>\n",
       "      <td>90</td>\n",
       "      <td>4.61</td>\n",
       "      <td>CL</td>\n",
       "      <td>2021-04-18 23:27:41</td>\n",
       "    </tr>\n",
       "  </tbody>\n",
       "</table>\n",
       "</div>"
      ],
      "text/plain": [
       "            City      Lat       Lng  Max Temp  Humidity  Cloudiness  \\\n",
       "0     Bredasdorp -34.5322   20.0403     66.20        82          60   \n",
       "1    East London -33.0153   27.9116     74.70        30           0   \n",
       "2          Yatou  37.1500  122.3833     52.79        65           0   \n",
       "3     Chokurdakh  70.6333  147.9167      9.59        91          95   \n",
       "4         Albany  42.6001  -73.9662     55.00        43          95   \n",
       "5       Saldanha -33.0117   17.9442     62.60        88          46   \n",
       "6         Bethel  41.3712  -73.4140     59.00        38          90   \n",
       "7  Novovasylivka  46.8315   35.7536     46.02        79          75   \n",
       "8           Chuy -33.6971  -53.4616     63.36        78           0   \n",
       "9       Coquimbo -29.9533  -71.3436     57.20        88          90   \n",
       "\n",
       "   Wind Speed Country  Current Description  \n",
       "0        8.05      ZA  2021-04-18 23:27:38  \n",
       "1        6.46      ZA  2021-04-18 23:27:39  \n",
       "2       11.16      CN  2021-04-18 23:27:39  \n",
       "3       14.25      RU  2021-04-18 23:27:39  \n",
       "4        3.00      US  2021-04-18 23:23:56  \n",
       "5        9.22      ZA  2021-04-18 23:23:13  \n",
       "6        8.05      US  2021-04-18 23:27:40  \n",
       "7        2.73      UA  2021-04-18 23:27:40  \n",
       "8        7.56      UY  2021-04-18 23:27:40  \n",
       "9        4.61      CL  2021-04-18 23:27:41  "
      ]
     },
     "execution_count": 58,
     "metadata": {},
     "output_type": "execute_result"
    }
   ],
   "source": [
    "# Convert the array of dictionaries to a Pandas DataFrame.\n",
    "city_data_df = pd.DataFrame(city_data)\n",
    "city_data_df.head(10)"
   ]
  },
  {
   "cell_type": "code",
   "execution_count": 11,
   "metadata": {},
   "outputs": [
    {
     "data": {
      "text/html": [
       "<div>\n",
       "<style scoped>\n",
       "    .dataframe tbody tr th:only-of-type {\n",
       "        vertical-align: middle;\n",
       "    }\n",
       "\n",
       "    .dataframe tbody tr th {\n",
       "        vertical-align: top;\n",
       "    }\n",
       "\n",
       "    .dataframe thead th {\n",
       "        text-align: right;\n",
       "    }\n",
       "</style>\n",
       "<table border=\"1\" class=\"dataframe\">\n",
       "  <thead>\n",
       "    <tr style=\"text-align: right;\">\n",
       "      <th></th>\n",
       "      <th>City</th>\n",
       "      <th>Country</th>\n",
       "      <th>Date</th>\n",
       "      <th>Lat</th>\n",
       "      <th>Lng</th>\n",
       "      <th>Max Temp</th>\n",
       "      <th>Humidity</th>\n",
       "      <th>Cloudiness</th>\n",
       "      <th>Wind Speed</th>\n",
       "    </tr>\n",
       "  </thead>\n",
       "  <tbody>\n",
       "    <tr>\n",
       "      <th>0</th>\n",
       "      <td>Bredasdorp</td>\n",
       "      <td>ZA</td>\n",
       "      <td>2021-04-18 23:14:32</td>\n",
       "      <td>-34.5322</td>\n",
       "      <td>20.0403</td>\n",
       "      <td>66.20</td>\n",
       "      <td>82</td>\n",
       "      <td>60</td>\n",
       "      <td>8.05</td>\n",
       "    </tr>\n",
       "    <tr>\n",
       "      <th>1</th>\n",
       "      <td>East London</td>\n",
       "      <td>ZA</td>\n",
       "      <td>2021-04-18 23:11:10</td>\n",
       "      <td>-33.0153</td>\n",
       "      <td>27.9116</td>\n",
       "      <td>74.70</td>\n",
       "      <td>30</td>\n",
       "      <td>0</td>\n",
       "      <td>6.46</td>\n",
       "    </tr>\n",
       "    <tr>\n",
       "      <th>2</th>\n",
       "      <td>Yatou</td>\n",
       "      <td>CN</td>\n",
       "      <td>2021-04-18 23:15:07</td>\n",
       "      <td>37.1500</td>\n",
       "      <td>122.3833</td>\n",
       "      <td>52.79</td>\n",
       "      <td>65</td>\n",
       "      <td>0</td>\n",
       "      <td>11.16</td>\n",
       "    </tr>\n",
       "    <tr>\n",
       "      <th>3</th>\n",
       "      <td>Chokurdakh</td>\n",
       "      <td>RU</td>\n",
       "      <td>2021-04-18 23:14:15</td>\n",
       "      <td>70.6333</td>\n",
       "      <td>147.9167</td>\n",
       "      <td>9.59</td>\n",
       "      <td>91</td>\n",
       "      <td>95</td>\n",
       "      <td>14.25</td>\n",
       "    </tr>\n",
       "    <tr>\n",
       "      <th>4</th>\n",
       "      <td>Albany</td>\n",
       "      <td>US</td>\n",
       "      <td>2021-04-18 23:12:33</td>\n",
       "      <td>42.6001</td>\n",
       "      <td>-73.9662</td>\n",
       "      <td>55.00</td>\n",
       "      <td>54</td>\n",
       "      <td>75</td>\n",
       "      <td>6.91</td>\n",
       "    </tr>\n",
       "    <tr>\n",
       "      <th>5</th>\n",
       "      <td>Saldanha</td>\n",
       "      <td>ZA</td>\n",
       "      <td>2021-04-18 23:14:29</td>\n",
       "      <td>-33.0117</td>\n",
       "      <td>17.9442</td>\n",
       "      <td>62.60</td>\n",
       "      <td>88</td>\n",
       "      <td>46</td>\n",
       "      <td>9.22</td>\n",
       "    </tr>\n",
       "    <tr>\n",
       "      <th>6</th>\n",
       "      <td>Bethel</td>\n",
       "      <td>US</td>\n",
       "      <td>2021-04-18 23:10:21</td>\n",
       "      <td>41.3712</td>\n",
       "      <td>-73.4140</td>\n",
       "      <td>59.00</td>\n",
       "      <td>38</td>\n",
       "      <td>90</td>\n",
       "      <td>8.05</td>\n",
       "    </tr>\n",
       "    <tr>\n",
       "      <th>7</th>\n",
       "      <td>Novovasylivka</td>\n",
       "      <td>UA</td>\n",
       "      <td>2021-04-18 23:15:08</td>\n",
       "      <td>46.8315</td>\n",
       "      <td>35.7536</td>\n",
       "      <td>46.02</td>\n",
       "      <td>79</td>\n",
       "      <td>75</td>\n",
       "      <td>2.73</td>\n",
       "    </tr>\n",
       "    <tr>\n",
       "      <th>8</th>\n",
       "      <td>Chuy</td>\n",
       "      <td>UY</td>\n",
       "      <td>2021-04-18 23:15:08</td>\n",
       "      <td>-33.6971</td>\n",
       "      <td>-53.4616</td>\n",
       "      <td>63.36</td>\n",
       "      <td>78</td>\n",
       "      <td>0</td>\n",
       "      <td>7.56</td>\n",
       "    </tr>\n",
       "    <tr>\n",
       "      <th>9</th>\n",
       "      <td>Coquimbo</td>\n",
       "      <td>CL</td>\n",
       "      <td>2021-04-18 23:15:09</td>\n",
       "      <td>-29.9533</td>\n",
       "      <td>-71.3436</td>\n",
       "      <td>57.20</td>\n",
       "      <td>88</td>\n",
       "      <td>90</td>\n",
       "      <td>4.61</td>\n",
       "    </tr>\n",
       "  </tbody>\n",
       "</table>\n",
       "</div>"
      ],
      "text/plain": [
       "            City Country                 Date      Lat       Lng  Max Temp  \\\n",
       "0     Bredasdorp      ZA  2021-04-18 23:14:32 -34.5322   20.0403     66.20   \n",
       "1    East London      ZA  2021-04-18 23:11:10 -33.0153   27.9116     74.70   \n",
       "2          Yatou      CN  2021-04-18 23:15:07  37.1500  122.3833     52.79   \n",
       "3     Chokurdakh      RU  2021-04-18 23:14:15  70.6333  147.9167      9.59   \n",
       "4         Albany      US  2021-04-18 23:12:33  42.6001  -73.9662     55.00   \n",
       "5       Saldanha      ZA  2021-04-18 23:14:29 -33.0117   17.9442     62.60   \n",
       "6         Bethel      US  2021-04-18 23:10:21  41.3712  -73.4140     59.00   \n",
       "7  Novovasylivka      UA  2021-04-18 23:15:08  46.8315   35.7536     46.02   \n",
       "8           Chuy      UY  2021-04-18 23:15:08 -33.6971  -53.4616     63.36   \n",
       "9       Coquimbo      CL  2021-04-18 23:15:09 -29.9533  -71.3436     57.20   \n",
       "\n",
       "   Humidity  Cloudiness  Wind Speed  \n",
       "0        82          60        8.05  \n",
       "1        30           0        6.46  \n",
       "2        65           0       11.16  \n",
       "3        91          95       14.25  \n",
       "4        54          75        6.91  \n",
       "5        88          46        9.22  \n",
       "6        38          90        8.05  \n",
       "7        79          75        2.73  \n",
       "8        78           0        7.56  \n",
       "9        88          90        4.61  "
      ]
     },
     "execution_count": 11,
     "metadata": {},
     "output_type": "execute_result"
    }
   ],
   "source": [
    "#reorder\n",
    "new_column_order = [\"City\", \"Country\", \"Date\",\"Lat\",\"Lng\",\"Max Temp\",\"Humidity\",\"Cloudiness\",\"Wind Speed\"]\n",
    "reorder_city_data_df = city_data_df[new_column_order]\n",
    "reorder_city_data_df.head(10)"
   ]
  },
  {
   "cell_type": "code",
   "execution_count": 12,
   "metadata": {},
   "outputs": [],
   "source": [
    "# Create the output file (CSV).\n",
    "output_data_file = \"weather_data/cities.csv\"\n",
    "# Export the City_Data into a CSV.\n",
    "city_data_df.to_csv(output_data_file, index_label=\"City_ID\")\n"
   ]
  },
  {
   "cell_type": "code",
   "execution_count": 13,
   "metadata": {},
   "outputs": [],
   "source": [
    "# Extract relevant fields from the DataFrame for plotting.\n",
    "lats = city_data_df[\"Lat\"]\n",
    "max_temps = city_data_df[\"Max Temp\"]\n",
    "humidity = city_data_df[\"Humidity\"]\n",
    "cloudiness = city_data_df[\"Cloudiness\"]\n",
    "wind_speed = city_data_df[\"Wind Speed\"]"
   ]
  },
  {
   "cell_type": "code",
   "execution_count": 14,
   "metadata": {},
   "outputs": [
    {
     "data": {
      "image/png": "[encoded data removed]",
      "text/plain": [
       "<Figure size 432x288 with 1 Axes>"
      ]
     },
     "metadata": {
      "needs_background": "light"
     },
     "output_type": "display_data"
    }
   ],
   "source": [
    "# Import time module\n",
    "import time\n",
    "\n",
    "# Build the scatter plot for latitude vs. max temperature.\n",
    "plt.scatter(lats,\n",
    "            max_temps,\n",
    "            edgecolor=\"black\", linewidths=1, marker=\"o\",\n",
    "            alpha=0.8, label=\"Cities\")\n",
    "\n",
    "# Incorporate the other graph properties.\n",
    "plt.title(f\"City Latitude vs. Max Temperature \"+ time.strftime(\"%x\"))\n",
    "plt.ylabel(\"Max Temperature (F)\")\n",
    "plt.xlabel(\"Latitude\")\n",
    "plt.grid(True)\n",
    "\n",
    "# Save the figure.\n",
    "plt.savefig(\"weather_data/Fig1.png\")\n",
    "\n",
    "# Show plot.\n",
    "plt.show()"
   ]
  },
  {
   "cell_type": "code",
   "execution_count": 15,
   "metadata": {},
   "outputs": [
    {
     "data": {
      "image/png": "[encoded data removed]",
      "text/plain": [
       "<Figure size 432x288 with 1 Axes>"
      ]
     },
     "metadata": {
      "needs_background": "light"
     },
     "output_type": "display_data"
    }
   ],
   "source": [
    "# Build the scatter plots for latitude vs. humidity.\n",
    "plt.scatter(lats,\n",
    "            humidity,\n",
    "            edgecolor=\"black\", linewidths=1, marker=\"o\",\n",
    "            alpha=0.8, label=\"Cities\")\n",
    "\n",
    "# Incorporate the other graph properties.\n",
    "plt.title(f\"City Latitude vs. Humidity \"+ time.strftime(\"%x\"))\n",
    "plt.ylabel(\"Humidity (%)\")\n",
    "plt.xlabel(\"Latitude\")\n",
    "plt.grid(True)\n",
    "# Save the figure.\n",
    "plt.savefig(\"weather_data/Fig2.png\")\n",
    "# Show plot.\n",
    "plt.show()"
   ]
  },
  {
   "cell_type": "code",
   "execution_count": 16,
   "metadata": {},
   "outputs": [
    {
     "data": {
      "image/png": "[encoded data removed]",
      "text/plain": [
       "<Figure size 432x288 with 1 Axes>"
      ]
     },
     "metadata": {
      "needs_background": "light"
     },
     "output_type": "display_data"
    }
   ],
   "source": [
    "# Build the scatter plots for latitude vs. cloudiness.\n",
    "plt.scatter(lats,\n",
    "            cloudiness,\n",
    "            edgecolor=\"black\", linewidths=1, marker=\"o\",\n",
    "            alpha=0.8, label=\"Cities\")\n",
    "\n",
    "# Incorporate the other graph properties.\n",
    "plt.title(f\"City Latitude vs. Cloudiness (%) \"+ time.strftime(\"%x\"))\n",
    "plt.ylabel(\"Cloudiness (%)\")\n",
    "plt.xlabel(\"Latitude\")\n",
    "plt.grid(True)\n",
    "# Save the figure.\n",
    "plt.savefig(\"weather_data/Fig3.png\")\n",
    "# Show plot.\n",
    "plt.show()"
   ]
  },
  {
   "cell_type": "code",
   "execution_count": 17,
   "metadata": {},
   "outputs": [
    {
     "data": {
      "image/png": "[encoded data removed]",
      "text/plain": [
       "<Figure size 432x288 with 1 Axes>"
      ]
     },
     "metadata": {
      "needs_background": "light"
     },
     "output_type": "display_data"
    }
   ],
   "source": [
    "# Build the scatter plots for latitude vs. wind speed.\n",
    "plt.scatter(lats,\n",
    "            wind_speed,\n",
    "            edgecolor=\"black\", linewidths=1, marker=\"o\",\n",
    "            alpha=0.8, label=\"Cities\")\n",
    "\n",
    "# Incorporate the other graph properties.\n",
    "plt.title(f\"City Latitude vs. Wind Speed \"+ time.strftime(\"%x\"))\n",
    "plt.ylabel(\"Wind Speed (mph)\")\n",
    "plt.xlabel(\"Latitude\")\n",
    "plt.grid(True)\n",
    "# Save the figure.\n",
    "plt.savefig(\"weather_data/Fig4.png\")\n",
    "# Show plot.\n",
    "plt.show()"
   ]
  },
  {
   "cell_type": "code",
   "execution_count": 18,
   "metadata": {},
   "outputs": [],
   "source": [
    "# Import linregress\n",
    "from scipy.stats import linregress\n",
    "\n",
    "# Create a function to create perform linear regression on the weather data\n",
    "# and plot a regression line and the equation with the data.\n",
    "def plot_linear_regression(x_values, y_values, title, y_label, text_coordinates):\n",
    "\n",
    "    # Run regression on hemisphere weather data.\n",
    "    (slope, intercept, r_value, p_value, std_err) = linregress(x_values, y_values)\n",
    "\n",
    "    # Calculate the regression line \"y values\" from the slope and intercept.\n",
    "    regress_values = x_values * slope + intercept\n",
    "    # Get the equation of the line.\n",
    "    line_eq = \"y = \" + str(round(slope,2)) + \"x + \" + str(round(intercept,2))\n",
    "    # Create a scatter plot and plot the regression line.\n",
    "    plt.scatter(x_values,y_values)\n",
    "    plt.plot(x_values,regress_values,\"r\")\n",
    "    # Annotate the text for the line equation.\n",
    "    plt.annotate(line_eq, text_coordinates, fontsize=15, color=\"red\")\n",
    "    plt.xlabel('Latitude')\n",
    "    plt.ylabel(y_label)\n",
    "    plt.show()"
   ]
  },
  {
   "cell_type": "code",
   "execution_count": 19,
   "metadata": {},
   "outputs": [],
   "source": [
    "# Create Northern and Southern Hemisphere DataFrames.\n",
    "northern_hemi_df = city_data_df.loc[(city_data_df[\"Lat\"] >= 0)]\n",
    "southern_hemi_df = city_data_df.loc[(city_data_df[\"Lat\"] < 0)]"
   ]
  },
  {
   "cell_type": "code",
   "execution_count": 20,
   "metadata": {},
   "outputs": [
    {
     "data": {
      "image/png": "[encoded data removed]",
      "text/plain": [
       "<Figure size 432x288 with 1 Axes>"
      ]
     },
     "metadata": {
      "needs_background": "light"
     },
     "output_type": "display_data"
    }
   ],
   "source": [
    "# Linear regression on the Northern Hemisphere\n",
    "x_values = northern_hemi_df[\"Lat\"]\n",
    "y_values = northern_hemi_df[\"Max Temp\"]\n",
    "# Call the function.\n",
    "plot_linear_regression(x_values, y_values,\n",
    "                       'Linear Regression on the Northern Hemisphere \\\n",
    "                        for Maximum Temperature', 'Max Temp',(10,40))"
   ]
  },
  {
   "cell_type": "code",
   "execution_count": 21,
   "metadata": {},
   "outputs": [
    {
     "name": "stdout",
     "output_type": "stream",
     "text": [
      "-0.8486045987080456\n"
     ]
    }
   ],
   "source": [
    "# Run regression on hemisphere weather data.\n",
    "(slope, intercept, r_value, p_value, std_err) = linregress(x_values, y_values)\n",
    "\n",
    "regress_values = r_value\n",
    "print(regress_values)    "
   ]
  },
  {
   "cell_type": "code",
   "execution_count": 22,
   "metadata": {},
   "outputs": [
    {
     "data": {
      "image/png": "[encoded data removed]",
      "text/plain": [
       "<Figure size 432x288 with 1 Axes>"
      ]
     },
     "metadata": {
      "needs_background": "light"
     },
     "output_type": "display_data"
    }
   ],
   "source": [
    "# Linear regression on the Southern Hemisphere\n",
    "x_values = southern_hemi_df[\"Lat\"]\n",
    "y_values = southern_hemi_df[\"Max Temp\"]\n",
    "# Call the function.\n",
    "plot_linear_regression(x_values, y_values,\n",
    "                       'Linear Regression on the Southern Hemisphere \\\n",
    "                        for Maximum Temperature', 'Max Temp',(-50,90))"
   ]
  },
  {
   "cell_type": "code",
   "execution_count": 23,
   "metadata": {},
   "outputs": [
    {
     "name": "stdout",
     "output_type": "stream",
     "text": [
      "0.7183551297088646\n"
     ]
    }
   ],
   "source": [
    "# Run regression on hemisphere weather data.\n",
    "(slope, intercept, r_value, p_value, std_err) = linregress(x_values, y_values)\n",
    "\n",
    "regress_values = r_value\n",
    "print(regress_values)    "
   ]
  },
  {
   "cell_type": "code",
   "execution_count": 24,
   "metadata": {},
   "outputs": [
    {
     "data": {
      "image/png": "[encoded data removed]",
      "text/plain": [
       "<Figure size 432x288 with 1 Axes>"
      ]
     },
     "metadata": {
      "needs_background": "light"
     },
     "output_type": "display_data"
    }
   ],
   "source": [
    "# Linear regression on the Northern Hemisphere\n",
    "x_values = northern_hemi_df[\"Lat\"]\n",
    "y_values = northern_hemi_df[\"Humidity\"]\n",
    "# Call the function.\n",
    "plot_linear_regression(x_values, y_values,\n",
    "                       'Linear Regression on the Northern Hemisphere \\\n",
    "                        for % Humidity', '% Humidity',(40,10))"
   ]
  },
  {
   "cell_type": "code",
   "execution_count": 25,
   "metadata": {},
   "outputs": [
    {
     "data": {
      "image/png": "[encoded data removed]",
      "text/plain": [
       "<Figure size 432x288 with 1 Axes>"
      ]
     },
     "metadata": {
      "needs_background": "light"
     },
     "output_type": "display_data"
    }
   ],
   "source": [
    "# Linear regression on the Southern Hemisphere\n",
    "x_values = southern_hemi_df[\"Lat\"]\n",
    "y_values = southern_hemi_df[\"Humidity\"]\n",
    "# Call the function.\n",
    "plot_linear_regression(x_values, y_values,\n",
    "                       'Linear Regression on the Southern Hemisphere \\\n",
    "                       for % Humidity', '% Humidity',(-50,15))"
   ]
  },
  {
   "cell_type": "code",
   "execution_count": 26,
   "metadata": {},
   "outputs": [
    {
     "data": {
      "image/png": "[encoded data removed]",
      "text/plain": [
       "<Figure size 432x288 with 1 Axes>"
      ]
     },
     "metadata": {
      "needs_background": "light"
     },
     "output_type": "display_data"
    }
   ],
   "source": [
    "# Linear regression on the Northern Hemisphere\n",
    "x_values = northern_hemi_df[\"Lat\"]\n",
    "y_values = northern_hemi_df[\"Cloudiness\"]\n",
    "# Call the function\n",
    "plot_linear_regression(x_values, y_values,\n",
    "                   'Linear Regression on the Northern Hemisphere \\\n",
    "                    for % Cloudiness', '% Cloudiness',(10,55))"
   ]
  },
  {
   "cell_type": "code",
   "execution_count": 27,
   "metadata": {},
   "outputs": [
    {
     "data": {
      "image/png": "[encoded data removed]",
      "text/plain": [
       "<Figure size 432x288 with 1 Axes>"
      ]
     },
     "metadata": {
      "needs_background": "light"
     },
     "output_type": "display_data"
    }
   ],
   "source": [
    "# Linear regression on the Southern Hemisphere\n",
    "x_values = southern_hemi_df[\"Lat\"]\n",
    "y_values = southern_hemi_df[\"Cloudiness\"]\n",
    "# Call the function.\n",
    "plot_linear_regression(x_values, y_values,\n",
    "                       'Linear Regression on the Southern Hemisphere \\\n",
    "                        for % Cloudiness', '% Cloudiness',(-50,60))"
   ]
  },
  {
   "cell_type": "code",
   "execution_count": 28,
   "metadata": {},
   "outputs": [
    {
     "data": {
      "image/png": "[encoded data removed]",
      "text/plain": [
       "<Figure size 432x288 with 1 Axes>"
      ]
     },
     "metadata": {
      "needs_background": "light"
     },
     "output_type": "display_data"
    }
   ],
   "source": [
    "# Linear regression on the Northern Hemisphere\n",
    "x_values = northern_hemi_df[\"Lat\"]\n",
    "y_values = northern_hemi_df[\"Wind Speed\"]\n",
    "# Call the function.\n",
    "plot_linear_regression(x_values, y_values,\n",
    "                       'Linear Regression on the Northern Hemisphere\\\n",
    "                        for Wind Speed', 'Wind Speed',(40,35))"
   ]
  },
  {
   "cell_type": "code",
   "execution_count": 29,
   "metadata": {},
   "outputs": [
    {
     "data": {
      "image/png": "[encoded data removed]",
      "text/plain": [
       "<Figure size 432x288 with 1 Axes>"
      ]
     },
     "metadata": {
      "needs_background": "light"
     },
     "output_type": "display_data"
    }
   ],
   "source": [
    "# Linear regression on the Southern Hemisphere\n",
    "x_values = southern_hemi_df[\"Lat\"]\n",
    "y_values = southern_hemi_df[\"Wind Speed\"]\n",
    "# Call the function.\n",
    "plot_linear_regression(x_values, y_values,\n",
    "                       'Linear Regression on the Southern Hemisphere \\\n",
    "                        for Wind Speed', 'Wind Speed',(-50,35))"
   ]
  },
  {
   "cell_type": "code",
   "execution_count": null,
   "metadata": {},
   "outputs": [],
   "source": []
  },
  {
   "cell_type": "code",
   "execution_count": null,
   "metadata": {},
   "outputs": [],
   "source": []
  },
  {
   "cell_type": "code",
   "execution_count": null,
   "metadata": {},
   "outputs": [],
   "source": []
  }
 ],
 "metadata": {
  "kernelspec": {
   "display_name": "PythonData",
   "language": "python",
   "name": "pythondata"
  },
  "language_info": {
   "codemirror_mode": {
    "name": "ipython",
    "version": 3
   },
   "file_extension": ".py",
   "mimetype": "text/x-python",
   "name": "python",
   "nbconvert_exporter": "python",
   "pygments_lexer": "ipython3",
   "version": "3.7.9"
  }
 },
 "nbformat": 4,
 "nbformat_minor": 4
}
